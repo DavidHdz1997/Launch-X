{
 "cells": [
  {
   "cell_type": "markdown",
   "metadata": {},
   "source": [
    "Ejercicio 1: Trabajar con argumentos en funciones\n",
    "Los argumentos requeridos en las funciones se utilizan cuando las funciones necesitan que esos argumentos funcionen correctamente. En este ejercicio, construirás un informe de combustible que requiere información de varias ubicaciones de combustible en todo el cohete."
   ]
  },
  {
   "cell_type": "code",
   "execution_count": 14,
   "metadata": {},
   "outputs": [],
   "source": [
    "def combustibleCoehete(combustible1, combustible2, combustible3):\n",
    "    promedio = (combustible1 + combustible2 + combustible3) / 3\n",
    "    return print(\"Combustible 1: \" + str(combustible1) + \"\\nCombustible2: \" + str(combustible2) + \"\\nCombustible 3: \" + str(combustible3) + \"\\nPromedio: \" + str(promedio))"
   ]
  },
  {
   "cell_type": "code",
   "execution_count": 15,
   "metadata": {},
   "outputs": [
    {
     "name": "stdout",
     "output_type": "stream",
     "text": [
      "Combustible 1: 33\n",
      "Combustible2: 54\n",
      "Combustible 3: 23\n",
      "Promedio: 36.666666666666664\n",
      "None\n"
     ]
    }
   ],
   "source": [
    "print(combustibleCoehete(33,54,23))"
   ]
  },
  {
   "cell_type": "code",
   "execution_count": 16,
   "metadata": {},
   "outputs": [],
   "source": [
    "def promedio(combustible1, combustible2, combustible3):\n",
    "    promedioTotal = (combustible1 + combustible2 + combustible3) / 3\n",
    "    return promedioTotal\n",
    "\n",
    "   "
   ]
  },
  {
   "cell_type": "code",
   "execution_count": 17,
   "metadata": {},
   "outputs": [
    {
     "name": "stdout",
     "output_type": "stream",
     "text": [
      "46.0\n"
     ]
    }
   ],
   "source": [
    "print(promedio(54,32,52))"
   ]
  },
  {
   "cell_type": "code",
   "execution_count": 23,
   "metadata": {},
   "outputs": [],
   "source": [
    "def combustibleCoehete(combustible1, combustible2, combustible3):\n",
    "    return print(\"Combustible 1: \" + str(combustible1) + \"\\nCombustible2: \" + str(combustible2) + \"\\nCombustible 3: \" + str(combustible3) + \"\\nPromedio: \" + str(promedio(combustible1, combustible2, combustible3)))\n"
   ]
  },
  {
   "cell_type": "code",
   "execution_count": 24,
   "metadata": {},
   "outputs": [
    {
     "name": "stdout",
     "output_type": "stream",
     "text": [
      "Combustible 1: 54\n",
      "Combustible2: 26\n",
      "Combustible 3: 64\n",
      "Promedio: 48.0\n",
      "None\n"
     ]
    }
   ],
   "source": [
    "\n",
    "print(combustibleCoehete(54,26,64))"
   ]
  }
 ],
 "metadata": {
  "interpreter": {
   "hash": "c23e56c0cc0a042c6dde709ecc19ea86a22aa222e3143262a4504108884ad1fa"
  },
  "kernelspec": {
   "display_name": "Python 3.10.2 64-bit",
   "language": "python",
   "name": "python3"
  },
  "language_info": {
   "codemirror_mode": {
    "name": "ipython",
    "version": 3
   },
   "file_extension": ".py",
   "mimetype": "text/x-python",
   "name": "python",
   "nbconvert_exporter": "python",
   "pygments_lexer": "ipython3",
   "version": "3.10.2"
  },
  "orig_nbformat": 4
 },
 "nbformat": 4,
 "nbformat_minor": 2
}
